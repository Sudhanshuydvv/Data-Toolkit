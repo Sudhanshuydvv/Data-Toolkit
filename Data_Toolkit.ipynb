{
  "nbformat": 4,
  "nbformat_minor": 0,
  "metadata": {
    "colab": {
      "provenance": []
    },
    "kernelspec": {
      "name": "python3",
      "display_name": "Python 3"
    },
    "language_info": {
      "name": "python"
    }
  },
  "cells": [
    {
      "cell_type": "markdown",
      "source": [
        "#Theoritcal Question:"
      ],
      "metadata": {
        "id": "FLNARSBlmjNN"
      }
    },
    {
      "cell_type": "markdown",
      "source": [
        "#1.What is NumPy, and why is it widely used in python?\n",
        " - NumPy is powerful library in Python that is used for numerical and scientific computing. It provides support for handling large, multi-dimensional arrays and matrices, aling with a collection of mathematical functions to operate on them efficiently.                            \n",
        " It is widely used in Python Because:\n",
        "  - Fast Operations: NumPy is built on low-level C and Fortran, making arrray and matrix operations significantly faster than pure Python code.           \n",
        "   - Array Manipulation: It introduces the `ndarray` object, which is more efficient than Python's list for handling large datasets.                \n",
        "  - Broadcasting: This features allows you to perform arithmetic operations on arrays of different shapes without writing complex code.                   \n",
        " and many more usage of NumPy in python."
      ],
      "metadata": {
        "id": "vyeJE6mzmq3v"
      }
    },
    {
      "cell_type": "markdown",
      "source": [
        "#2. How does broadcasting work in NumPy?\n",
        " - Broadcasting in NumPy is a powerful feature that allows arrays with different shapes to be combined together for arithmatic operations without explicity reshaping them.It works by automatically expanding the smaller array to match the shape pf the larger array,following a set of rules.  \n",
        " Working of Broadcasting in NumPy:  \n",
        "\n",
        " 1.Dimension Alignment:\n",
        " NumPy compares the shapes of two arrays,starting from the trailing dimensions.  \n",
        "\n",
        "2.Compatibility Check: Dimensions are compatible of:                           \n",
        "  - They are equal.\n",
        "  - One of them is 1(it can be \"stretched\" to match the other dimensions.                             \n",
        "  \n",
        " 3.Stretching: If a dimension is 1, NumPy stretches it to match the size of the other array along that dimension."
      ],
      "metadata": {
        "id": "-QUqieibpILM"
      }
    },
    {
      "cell_type": "markdown",
      "source": [
        "#3.What is a Pandas DataFrame?\n",
        " - A Pandas Dataframe is one of the core data structures in the python liberary, pandas,designed specifically for data manipulation and analysis. Essentially, it's a two dimensional, tabular data structure with labeled rows and columns, much like an Excel spreadsheet or a SQL table.\n"
      ],
      "metadata": {
        "id": "4fgYC-UOrjES"
      }
    },
    {
      "cell_type": "markdown",
      "source": [
        "#4. Explain the use of the groupby() method in Pandas.\n",
        " - The `groupby()` method in Pandas is a powerful tool used for splitting data into groups based on some criteria, applying a function to each group independently, and then combining the results. It allows for efficient data aggregation and transformation, which is especially useful for data analysis tasks."
      ],
      "metadata": {
        "id": "4nhJedCTMpam"
      }
    },
    {
      "cell_type": "markdown",
      "source": [
        "#5. Why is Seaborn preferred for statistical visualizations?\n",
        " - Seaborn is often preferred for statistical visualizations because it is specifically designed to make complex visualizations both easy to create and aesthetically pleasing. It builds on Matplotlib and provides a high-level interface for creating informative and attractive statistical graphics. Here's why it stands out:     \n",
        " 1.Simplified Syntax                    \n",
        " 2.Built-in Themes                      \n",
        " 3.Statiscal Fumctions                   \n",
        " 4.Advanced Data Insights                \n",
        " 5.Automatic Scaling"
      ],
      "metadata": {
        "id": "v-n9XV3eM_Wl"
      }
    },
    {
      "cell_type": "markdown",
      "source": [
        "#6. What are the differences between NumPy arrays and Python lists?\n",
        " - Difference between NumPy arrays and Python lists:                           \n",
        " 1. NumPy arrays can store homogeneous; all elements must be of the same data type. whereas Python lists can store heterogenous; elements of different data types.  \n",
        "\n",
        " 2. Numpy arrays is faster for numerical computations because they are implemented in C and make use of contiguous memory storage. whereas Python lists is slower,especially for large data sets,as they are move flexible but do not use optimized structures for computation.   \n",
        "\n",
        " 3. NumPy arrays support a wide range of mathematical and statistical like element-wise addition,multiplication,dot products,and broadcasting. whereas Python lists do not natively support mathematical operations and require loops or list comprehensions for calculations.                       \n",
        "\n",
        " 4. NumPy arrays support advanced indexing,like slicing,masking,and broadcasting.whereas Python lists have limited to single slicing and indexing.\n"
      ],
      "metadata": {
        "id": "bvMSZFDBN1aP"
      }
    },
    {
      "cell_type": "markdown",
      "source": [
        "#7.What is a heatmap, and when should it be use?\n",
        " - A heatmap is a graphical representation of data where individual values are repesented as colors in a matrix. It provides an intuitive way to visualize patterns,trends,and relationships within a dataset by using color gradients to depict variations in data intensity,frequency,or magnitude.  \n",
        " - Usages:                               \n",
        " 1. Comparing Variables or Features.    \n",
        " 2. Visualizing Density or Intensity.   \n",
        " 3. Monitoring Changes Over Time or Across Categories.                    \n",
        " 4.Highlighting Hotspots.                \n",
        " 5.Resource Allocation or Optimization."
      ],
      "metadata": {
        "id": "P_4HuifLwVMW"
      }
    },
    {
      "cell_type": "markdown",
      "source": [
        "#8. What does the term “vectorized operation” mean in NumPy?\n",
        " - In NumPy, a vectorized operation refers to performing computation on entire arrays (or vectors) without the need for explicit loops in the code. This means the operation is applied element by element across the entire array in one step,leveraging NumPy's underlying optimized C implementation for superior performance."
      ],
      "metadata": {
        "id": "f0xD4fAVyAMb"
      }
    },
    {
      "cell_type": "markdown",
      "source": [
        "#9.  How does Matplotlib differ from Plotly?\n",
        " - Matplotlib and Plotly are both powerful data visualization liberaries in Python,but they serve slightly different purposes and have a key diiferences:                            \n",
        " 1. Matplotlib provides a lot of control over plot customization,but the syntax can be more complex and less intuitive for beginners.whereas Plotly offers a simpler and more user-friendly interface,especially with the `plotly.express` module for quickly generating visualization.                         \n",
        "\n",
        " 2. Matplotlib offers a wide range of chart types,from basic line and bar charts to advanced plots.whereas Plotly supports more advanced visualizations out of box,such as 3D plots,goegraphical maps,and animated charts.\n",
        "\n",
        " 3. Matplotlib are lighter in terms of dependencies and well-suited for offline usage.whereas Plotly are heavier due to interactivity features and many require additional libaries for full functionally.                 \n",
        "\n",
        "4. Matplotlib generates static images like PNG,PDF,or SVG,which are great for documents and reports.whereas Plotly are outpot dynamic,interactive visualization that can be embedded in web pages or exported as HTML files."
      ],
      "metadata": {
        "id": "gzieys2zzY_r"
      }
    },
    {
      "cell_type": "markdown",
      "source": [
        "#10. What is the significance of hierarchical indexing in Pandas?\n",
        " - Hierarchical indexing, or multi-level indexing, is a key feature in Pandas that allows you to work with data using multiple levels of indexing.This adds flexibility and efficiency when handling complex and high-dimensional datasets.\n",
        "\n",
        " Significance of Hierarchical Indexing in Pandas:                             \n",
        "1. Organizing Complex Data.            \n",
        "2. Improved Data Selection.            \n",
        "3. Grouping and Aggregation.           \n",
        "4. Efficient Reshaping of Data.         \n",
        "5. Enhanced Readability."
      ],
      "metadata": {
        "id": "DI-aYKw02Y4V"
      }
    },
    {
      "cell_type": "markdown",
      "source": [
        "#11. What is the role of Seaborn’s pairplot() function?\n",
        " - Seaborn’s pairplot() function is a powerful tool for visualizing relationships between variables in a dataset. It generates a grid of plots, where each variable in the dataset is paired with every other variable (and itself).                               \n",
        "\n",
        " Keyroles of `pairplot()`:             \n",
        " 1. Exploring Pairwise Relationships.   \n",
        " 2. Data Distributions.                \n",
        " 3. Grouping with Categories.           \n",
        " 4. Understanding Multivariate Relationships."
      ],
      "metadata": {
        "id": "wWDg3JUa3b5s"
      }
    },
    {
      "cell_type": "markdown",
      "source": [
        "#12.  What is the purpose of the describe() function in Pandas?\n",
        " - The `describe()` function in Pandas is a handy tool for generating a summary of statistics for numeric (and optionally non-numeric) columns in a DataFrame. It helps you quickly understand the distribution and key metrics of your dataset.                \n",
        "\n",
        " Purposes of `describe()`:              \n",
        " 1. Summary Statistics.                 \n",
        " 2. Data Exploration.\n",
        " 3. Identify Missing Values.\n",
        " 4. Handle Non-Numeric Data.\n",
        " 5. Compare Distributions."
      ],
      "metadata": {
        "id": "BVo4gs-g4TYt"
      }
    },
    {
      "cell_type": "markdown",
      "source": [
        "#13. Why is handling missing data important in Pandas?\n",
        " - Handling missing data is crucial in Pandas—and in any data analysis—for the following reasons:                    \n",
        " 1. Ensures Data Integrity: Missing values can distort analysis and lead to incorrect conclusions. Properly handling them ensures that computations are accurate and reliable.\n",
        "\n",
        " 2. Enables Accurate Modeling: Machine learning models and statistical methods often cannot handle missing data directly. Addressing these gaps is essential for model training and evaluation.\n",
        "\n",
        " 3. Preserves Data Consistency: Missing data might cause operations to fail or produce unexpected results. Cleaning up ensures consistent, interpretable data.\n",
        "\n",
        " 4. Maintains Analytical Value: Effective handling, such as imputation or careful removal of rows/columns, preserves as much valuable information as possible while minimizing bias.\n",
        "\n",
        " 5. Facilitates Exploratory Analysis: Patterns in missing data can provide insights about the dataset itself, such as data collection issues or hidden correlations.\n"
      ],
      "metadata": {
        "id": "MzqaOYlg5T62"
      }
    },
    {
      "cell_type": "markdown",
      "source": [
        "#14. What are the benefits of using Plotly for data visualization?\n",
        " - Plotly is a highly versatile library for data visualization, offering several benefits that make it popular among analysts, developers, and researchers:\n",
        " 1. Interactivity\n",
        " 2. Ease of Use\n",
        " 3. Wide Range of Visualizations\n",
        " 4. Integration with Dashboards\n",
        " 5. Cross-Platform Compatibility\n",
        " 6. Flexibility and Customization\n",
        " 7. Free and Open Source\n",
        " 8. Pythonic and Multilanguage Support\n",
        " 9. Support for Big Data"
      ],
      "metadata": {
        "id": "R-P7jlwo6L-Q"
      }
    },
    {
      "cell_type": "markdown",
      "source": [
        "#15. How does NumPy handle multidimensional arrays?\n",
        " - NumPy is designed to efficiently handle and operate on multidimensional arrays, known as `ndarray` (short for N-dimensional array). These arrays are the core data structure in NumPy and are highly optimized for numerical computations.\n",
        "\n",
        "Key Features of Multidimensional Arrays in NumPy:                             \n",
        "1. Support for Arbitrary Dimensions\n",
        "2. Efficient Memory Layout\n",
        "3. Shape and Dimensionality\n",
        "4. Broadcasting\n",
        "5. Indexing and Slicing\n",
        "6. Element-Wise Operations\n",
        "7. Reshaping Arrays\n",
        "8. Mathematical and Statistical Operations"
      ],
      "metadata": {
        "id": "LdHOOvx_67Ll"
      }
    },
    {
      "cell_type": "markdown",
      "source": [
        "#16.  What is the role of Bokeh in data visualization?\n",
        " - Bokeh is a powerful and interactive data visualization library in Python, designed for creating modern, web-based visualizations. Its primary role in data visualization is to help users generate interactive plots, dashboards, and applications that work seamlessly across browsers.           \n",
        "\n",
        " Here are some key roles Bokeh plays in data visualization:     \n",
        " 1. Interactivity\n",
        " 2. Versatility\n",
        " 3. Integration\n",
        " 4. Scalability"
      ],
      "metadata": {
        "id": "4Ft7V3OX8QbI"
      }
    },
    {
      "cell_type": "markdown",
      "source": [
        "#17. Explain the difference between apply() and map() in Pandas?\n",
        " - In Pandas, both `apply()` and `map()` are used for applying functions to data, but they differ in how and where they can be applied. Here's a breakdown of the key differences:   \n",
        "\n",
        " 1. `apply()`                                                     \n",
        " - Scope: Works on DataFrames and Series.\n",
        "\n",
        "- Usage: Applies a given function along an axis (row-wise or column-wise) for a DataFrame or element-wise for a Series.\n",
        "\n",
        "- Flexibility: More versatile; you can use it for operations on entire rows, columns, or elements.\n",
        "                              \n",
        "2. `map()`                                                      \n",
        "- Scope: Works only on Series (or one-dimensional data).\n",
        "\n",
        "- Usage: Maps a function or a dictionary/Series to transform elements in a Series.\n",
        "\n",
        "- Flexibility: Limited to element-wise operations on a Series."
      ],
      "metadata": {
        "id": "843hOK2E8jEh"
      }
    },
    {
      "cell_type": "markdown",
      "source": [
        "#18.  What are some advanced features of NumPy?\n",
        " - NumPy is a foundational library for numerical and scientific computing in Python, and it offers several advanced features that make it powerful and efficient. Here are some of them:  \n",
        "\n",
        "1. Broadcasting\n",
        " - Enables arithmetic operations on arrays of different shapes by automatically expanding their dimensions to match.\n",
        "\n",
        " - Simplifies code and improves performance for operations on mismatched shapes.\n",
        "\n",
        "2. Vectorized Operations\n",
        " - NumPy allows element-wise operations on entire arrays without writing explicit loops, making computations faster and more concise.\n",
        "\n",
        "3. Random Sampling\n",
        " - The `numpy.random` module generates random numbers for simulations, including distributions like uniform, normal, Poisson, and more.\n",
        " - Supports reproducibility through random seed control.\n",
        "\n",
        "4. FFT (Fast Fourier Transform)\n",
        " - Supports efficient computation of Fourier transforms and inverse transforms for signal processing and time-series analysis.\n",
        "\n",
        "5. Masked Arrays\n",
        " - Facilitates operations on arrays with missing or invalid data by \"masking\" certain elements from computation."
      ],
      "metadata": {
        "id": "PumTR-ZU8lbM"
      }
    },
    {
      "cell_type": "markdown",
      "source": [
        "#19. How does Pandas simplify time series analysis?\n",
        " - Pandas is a powerful Python library that significantly simplifies time series analysis. Here's how:\n",
        "\n",
        " 1. Date and Time Handling: Pandas provides a `datetime` module that makes it easy to work with dates and times, parse strings into datetime objects, and perform arithmetic on time-based data.\n",
        "\n",
        " 2. Indexing with Time: You can use a DatetimeIndex, allowing you to index, slice, and subset data based on time. This makes it simple to focus on specific time ranges.\n",
        "\n",
        " 3. Resampling and Aggregation: Pandas allows resampling time series data to a different frequency (e.g., converting daily data into monthly averages). Functions like `.resample()` and `.groupby()` make aggregation efficient.\n",
        "\n",
        " 4.Time Zone Awareness: You can localize time series data to specific time zones and convert between them easily, thanks to Pandas' time zone handling capabilities.\n",
        "\n",
        " 5. Shifting and Lagging: Pandas supports shifting data forwards or backwards in time, which is often needed in tasks like calculating moving averages or lagged variables.and many more."
      ],
      "metadata": {
        "id": "YV4piPb58yqz"
      }
    },
    {
      "cell_type": "markdown",
      "source": [
        "#20. What is the role of a pivot table in Pandas?\n",
        " - In Pandas, a pivot table plays a crucial role in reshaping and summarizing datasets. It allows you to organize data in a tabular format based on specific rows and columns, while performing aggregate operations like sum, mean, count, etc.     \n",
        "\n",
        " Key Roles of a Pivot Table in Pandas:\n",
        "1. Data Aggregation\n",
        "2. Reshaping  Data\n",
        "3. Handeling Multi-Dimensional Data\n",
        "4. Filtering and Segmenting\n",
        "5. Customizable"
      ],
      "metadata": {
        "id": "GClAUqRJ84VF"
      }
    },
    {
      "cell_type": "markdown",
      "source": [
        "#21. Why is NumPy’s array slicing faster than Python’s list slicing?\n",
        " - NumPy’s array slicing is faster than Python’s list slicing primarily because of the following reasons:\n",
        "\n",
        "  - Efficient Memory Layout: NumPy arrays use a contiguous block of memory, which allows for more efficient access and manipulation. Python lists, on the other hand, are collections of pointers to objects, so accessing elements involves additional overhead.\n",
        "\n",
        "  - Vectorized Operations: NumPy is implemented in C, which enables it to perform operations on entire arrays in a highly optimized and parallel manner. Python lists rely on loops, which are slower due to Python's interpreter overhead.\n",
        "\n",
        "  - No Type Checking Overhead: NumPy arrays are homogeneous (all elements are of the same data type), eliminating the need for type checking during slicing. Python lists are heterogeneous, so each element's type must be checked, adding time overhead.\n",
        "\n",
        "  - Low-Level Optimization: NumPy’s underlying implementation uses low-level optimizations like SIMD (Single Instruction, Multiple Data) and cache-friendly memory management, which Python lists cannot leverage."
      ],
      "metadata": {
        "id": "EEC3xkWb87Di"
      }
    },
    {
      "cell_type": "markdown",
      "source": [
        "#22. What are some common use cases for Seaborn?\n",
        " - Seaborn is a Python library tailored for creating informative and aesthetically pleasing statistical graphics. Here are some common use cases for Seaborn:                                  \n",
        "\n",
        " 1. Exploratory Data Analysis (EDA)\n",
        "- Visualizing relationships between variables (e.g., scatterplots, pair plots) to uncover trends, correlations, or patterns.\n",
        "- Understanding distributions of data through histograms, KDE plots, or violin plots.\n",
        "\n",
        " 2. Statistical Analysis\n",
        "- Plotting linear regression models using `sns.regplot()` to evaluate relationships between variables.\n",
        "- Creating visualizations for grouped statistics, such as box plots or bar plots with confidence intervals.\n",
        "\n",
        " 3. Time Series Analysis\n",
        "- Visualizing temporal data to observe patterns or trends over time (e.g., line plots for stock prices or weather data).\n",
        "\n",
        " 4. Categorical Data Visualization\n",
        "- Analyzing data segmented by categories with bar plots, count plots, or heatmaps.\n",
        "\n",
        " 5. Advanced Customization\n",
        "- Enhancing Matplotlib-based visualizations with built-in themes, color palettes, and tools to make the plots publication-ready."
      ],
      "metadata": {
        "id": "gfK-OMfD8_7w"
      }
    },
    {
      "cell_type": "markdown",
      "source": [
        "#Practical Questions:"
      ],
      "metadata": {
        "id": "7Bnpi8b59DBO"
      }
    },
    {
      "cell_type": "markdown",
      "source": [
        "#1. How do you create a 2D NumPy array and calculate the sum of each row?"
      ],
      "metadata": {
        "id": "hpbzxf_c9Gz_"
      }
    },
    {
      "cell_type": "code",
      "source": [
        "import numpy as np\n",
        "array_2d = np.array([[1, 2, 3],\n",
        "                     [4, 5, 6],\n",
        "                     [7, 8, 9]])\n",
        "\n",
        "row_sums = np.sum(array_2d, axis=1)\n",
        "\n",
        "print(\"2D Array:\")\n",
        "print(array_2d)\n",
        "print(\"Sum of each row:\")\n",
        "print(row_sums)\n"
      ],
      "metadata": {
        "colab": {
          "base_uri": "https://localhost:8080/"
        },
        "id": "M38Eox-dWSfo",
        "outputId": "0fdd07fb-0bbd-4b97-ffbf-2cb8f83f6355"
      },
      "execution_count": null,
      "outputs": [
        {
          "output_type": "stream",
          "name": "stdout",
          "text": [
            "2D Array:\n",
            "[[1 2 3]\n",
            " [4 5 6]\n",
            " [7 8 9]]\n",
            "Sum of each row:\n",
            "[ 6 15 24]\n"
          ]
        }
      ]
    },
    {
      "cell_type": "markdown",
      "source": [
        "#2. Write a Pandas script to find the mean of a specific column in a DataFrame.\n"
      ],
      "metadata": {
        "id": "lh4C0wSKWS5R"
      }
    },
    {
      "cell_type": "code",
      "source": [
        "import pandas as pd\n",
        "\n",
        "data = {'Name': ['Alice', 'Bob', 'Charlie'], 'Age': [25, 30, 35], 'Salary': [50000, 60000, 55000]}\n",
        "\n",
        "df = pd.DataFrame(data)\n",
        "mean_age = df['Age'].mean()\n",
        "\n",
        "print(\"Mean of the 'Age' column:\", mean_age)\n"
      ],
      "metadata": {
        "colab": {
          "base_uri": "https://localhost:8080/"
        },
        "id": "j2LvKoatWXzj",
        "outputId": "e431c83e-2840-4ae6-c3a3-4ba6f50986cb"
      },
      "execution_count": null,
      "outputs": [
        {
          "output_type": "stream",
          "name": "stdout",
          "text": [
            "Mean of the 'Age' column: 30.0\n"
          ]
        }
      ]
    },
    {
      "cell_type": "markdown",
      "source": [
        "#3. Create a scatter plot using Matplotlib.\n"
      ],
      "metadata": {
        "id": "Xg0o7-vHWYR2"
      }
    },
    {
      "cell_type": "code",
      "source": [
        "import matplotlib.pyplot as plt\n",
        "x = [1, 2, 3, 4, 5]\n",
        "y = [2, 4, 1, 3, 5]\n",
        "\n",
        "plt.scatter(x, y, color='blue', label='Data Points')\n",
        "plt.xlabel('X-axis Label')\n",
        "plt.ylabel('Y-axis Label')\n",
        "plt.title('Sample Scatter Plot')\n",
        "\n",
        "plt.legend()\n",
        "plt.show()\n"
      ],
      "metadata": {
        "colab": {
          "base_uri": "https://localhost:8080/",
          "height": 472
        },
        "id": "I4ZQguvxWcez",
        "outputId": "767d9054-b5cc-4999-d91a-6a6a944482e2"
      },
      "execution_count": null,
      "outputs": [
        {
          "output_type": "display_data",
          "data": {
            "text/plain": [
              "<Figure size 640x480 with 1 Axes>"
            ],
            "image/png": "[encoded data removed]"
          },
          "metadata": {}
        }
      ]
    },
    {
      "cell_type": "markdown",
      "source": [
        "#4. How do you calculate the correlation matrix using Seaborn and visualize it with a heatmap?\n"
      ],
      "metadata": {
        "id": "cQjJluxpWc1c"
      }
    },
    {
      "cell_type": "code",
      "source": [
        "import pandas as pd\n",
        "import seaborn as sns\n",
        "import matplotlib.pyplot as plt\n",
        "\n",
        "data = {'A': [1, 2, 3, 4, 5], 'B': [5, 4, 3, 2, 1], 'C': [2, 3, 4, 5, 6]}\n",
        "df = pd.DataFrame(data)\n",
        "\n",
        "correlation_matrix = df.corr()\n",
        "sns.heatmap(correlation_matrix, annot=True, cmap=\"coolwarm\", fmt=\".2f\")\n",
        "plt.title(\"Correlation Matrix Heatmap\")\n",
        "plt.show()\n"
      ],
      "metadata": {
        "colab": {
          "base_uri": "https://localhost:8080/",
          "height": 452
        },
        "id": "YYo9pcYIWhc5",
        "outputId": "e94f4b01-6e02-482a-e18a-b1cb482de08e"
      },
      "execution_count": null,
      "outputs": [
        {
          "output_type": "display_data",
          "data": {
            "text/plain": [
              "<Figure size 640x480 with 2 Axes>"
            ],
            "image/png": "[encoded data removed]"
          },
          "metadata": {}
        }
      ]
    },
    {
      "cell_type": "markdown",
      "source": [
        "#5. Generate a bar plot using Plotly.\n"
      ],
      "metadata": {
        "id": "3Xyj6xEJWhzB"
      }
    },
    {
      "cell_type": "code",
      "source": [
        "import plotly.graph_objects as go\n",
        "categories = ['Category A', 'Category B', 'Category C', 'Category D']\n",
        "values = [10, 20, 15, 25]\n",
        "\n",
        "fig = go.Figure(data=[go.Bar(x=categories, y=values, marker_color='blue')])\n",
        "\n",
        "fig.update_layout(title='Bar Plot Example', xaxis_title='Categories', yaxis_title='Values')\n",
        "fig.show()\n"
      ],
      "metadata": {
        "colab": {
          "base_uri": "https://localhost:8080/",
          "height": 542
        },
        "id": "dzKN5GDDWlxj",
        "outputId": "0e5c2243-4879-4eea-9391-b93aec67887e"
      },
      "execution_count": null,
      "outputs": [
        {
          "output_type": "display_data",
          "data": {
            "text/html": [
              "<html>\n",
              "<head><meta charset=\"utf-8\" /></head>\n",
              "<body>\n",
              "    <div>            <script src=\"https://cdnjs.cloudflare.com/ajax/libs/mathjax/2.7.5/MathJax.js?config=TeX-AMS-MML_SVG\"></script><script type=\"text/javascript\">if (window.MathJax && window.MathJax.Hub && window.MathJax.Hub.Config) {window.MathJax.Hub.Config({SVG: {font: \"STIX-Web\"}});}</script>                <script type=\"text/javascript\">window.PlotlyConfig = {MathJaxConfig: 'local'};</script>\n",
              "        <script charset=\"utf-8\" src=\"https://cdn.plot.ly/plotly-2.35.2.min.js\"></script>                <div id=\"015c3ffe-fbbe-466f-9748-7c788d0ea4cc\" class=\"plotly-graph-div\" style=\"height:525px; width:100%;\"></div>            <script type=\"text/javascript\">                                    window.PLOTLYENV=window.PLOTLYENV || {};                                    if (document.getElementById(\"015c3ffe-fbbe-466f-9748-7c788d0ea4cc\")) {                    Plotly.newPlot(                        \"015c3ffe-fbbe-466f-9748-7c788d0ea4cc\",                        [{\"marker\":{\"color\":\"blue\"},\"x\":[\"Category A\",\"Category B\",\"Category C\",\"Category D\"],\"y\":[10,20,15,25],\"type\":\"bar\"}],                        {\"template\":{\"data\":{\"histogram2dcontour\":[{\"type\":\"histogram2dcontour\",\"colorbar\":{\"outlinewidth\":0,\"ticks\":\"\"},\"colorscale\":[[0.0,\"#0d0887\"],[0.1111111111111111,\"#46039f\"],[0.2222222222222222,\"#7201a8\"],[0.3333333333333333,\"#9c179e\"],[0.4444444444444444,\"#bd3786\"],[0.5555555555555556,\"#d8576b\"],[0.6666666666666666,\"#ed7953\"],[0.7777777777777778,\"#fb9f3a\"],[0.8888888888888888,\"#fdca26\"],[1.0,\"#f0f921\"]]}],\"choropleth\":[{\"type\":\"choropleth\",\"colorbar\":{\"outlinewidth\":0,\"ticks\":\"\"}}],\"histogram2d\":[{\"type\":\"histogram2d\",\"colorbar\":{\"outlinewidth\":0,\"ticks\":\"\"},\"colorscale\":[[0.0,\"#0d0887\"],[0.1111111111111111,\"#46039f\"],[0.2222222222222222,\"#7201a8\"],[0.3333333333333333,\"#9c179e\"],[0.4444444444444444,\"#bd3786\"],[0.5555555555555556,\"#d8576b\"],[0.6666666666666666,\"#ed7953\"],[0.7777777777777778,\"#fb9f3a\"],[0.8888888888888888,\"#fdca26\"],[1.0,\"#f0f921\"]]}],\"heatmap\":[{\"type\":\"heatmap\",\"colorbar\":{\"outlinewidth\":0,\"ticks\":\"\"},\"colorscale\":[[0.0,\"#0d0887\"],[0.1111111111111111,\"#46039f\"],[0.2222222222222222,\"#7201a8\"],[0.3333333333333333,\"#9c179e\"],[0.4444444444444444,\"#bd3786\"],[0.5555555555555556,\"#d8576b\"],[0.6666666666666666,\"#ed7953\"],[0.7777777777777778,\"#fb9f3a\"],[0.8888888888888888,\"#fdca26\"],[1.0,\"#f0f921\"]]}],\"heatmapgl\":[{\"type\":\"heatmapgl\",\"colorbar\":{\"outlinewidth\":0,\"ticks\":\"\"},\"colorscale\":[[0.0,\"#0d0887\"],[0.1111111111111111,\"#46039f\"],[0.2222222222222222,\"#7201a8\"],[0.3333333333333333,\"#9c179e\"],[0.4444444444444444,\"#bd3786\"],[0.5555555555555556,\"#d8576b\"],[0.6666666666666666,\"#ed7953\"],[0.7777777777777778,\"#fb9f3a\"],[0.8888888888888888,\"#fdca26\"],[1.0,\"#f0f921\"]]}],\"contourcarpet\":[{\"type\":\"contourcarpet\",\"colorbar\":{\"outlinewidth\":0,\"ticks\":\"\"}}],\"contour\":[{\"type\":\"contour\",\"colorbar\":{\"outlinewidth\":0,\"ticks\":\"\"},\"colorscale\":[[0.0,\"#0d0887\"],[0.1111111111111111,\"#46039f\"],[0.2222222222222222,\"#7201a8\"],[0.3333333333333333,\"#9c179e\"],[0.4444444444444444,\"#bd3786\"],[0.5555555555555556,\"#d8576b\"],[0.6666666666666666,\"#ed7953\"],[0.7777777777777778,\"#fb9f3a\"],[0.8888888888888888,\"#fdca26\"],[1.0,\"#f0f921\"]]}],\"surface\":[{\"type\":\"surface\",\"colorbar\":{\"outlinewidth\":0,\"ticks\":\"\"},\"colorscale\":[[0.0,\"#0d0887\"],[0.1111111111111111,\"#46039f\"],[0.2222222222222222,\"#7201a8\"],[0.3333333333333333,\"#9c179e\"],[0.4444444444444444,\"#bd3786\"],[0.5555555555555556,\"#d8576b\"],[0.6666666666666666,\"#ed7953\"],[0.7777777777777778,\"#fb9f3a\"],[0.8888888888888888,\"#fdca26\"],[1.0,\"#f0f921\"]]}],\"mesh3d\":[{\"type\":\"mesh3d\",\"colorbar\":{\"outlinewidth\":0,\"ticks\":\"\"}}],\"scatter\":[{\"fillpattern\":{\"fillmode\":\"overlay\",\"size\":10,\"solidity\":0.2},\"type\":\"scatter\"}],\"parcoords\":[{\"type\":\"parcoords\",\"line\":{\"colorbar\":{\"outlinewidth\":0,\"ticks\":\"\"}}}],\"scatterpolargl\":[{\"type\":\"scatterpolargl\",\"marker\":{\"colorbar\":{\"outlinewidth\":0,\"ticks\":\"\"}}}],\"bar\":[{\"error_x\":{\"color\":\"#2a3f5f\"},\"error_y\":{\"color\":\"#2a3f5f\"},\"marker\":{\"line\":{\"color\":\"#E5ECF6\",\"width\":0.5},\"pattern\":{\"fillmode\":\"overlay\",\"size\":10,\"solidity\":0.2}},\"type\":\"bar\"}],\"scattergeo\":[{\"type\":\"scattergeo\",\"marker\":{\"colorbar\":{\"outlinewidth\":0,\"ticks\":\"\"}}}],\"scatterpolar\":[{\"type\":\"scatterpolar\",\"marker\":{\"colorbar\":{\"outlinewidth\":0,\"ticks\":\"\"}}}],\"histogram\":[{\"marker\":{\"pattern\":{\"fillmode\":\"overlay\",\"size\":10,\"solidity\":0.2}},\"type\":\"histogram\"}],\"scattergl\":[{\"type\":\"scattergl\",\"marker\":{\"colorbar\":{\"outlinewidth\":0,\"ticks\":\"\"}}}],\"scatter3d\":[{\"type\":\"scatter3d\",\"line\":{\"colorbar\":{\"outlinewidth\":0,\"ticks\":\"\"}},\"marker\":{\"colorbar\":{\"outlinewidth\":0,\"ticks\":\"\"}}}],\"scattermapbox\":[{\"type\":\"scattermapbox\",\"marker\":{\"colorbar\":{\"outlinewidth\":0,\"ticks\":\"\"}}}],\"scatterternary\":[{\"type\":\"scatterternary\",\"marker\":{\"colorbar\":{\"outlinewidth\":0,\"ticks\":\"\"}}}],\"scattercarpet\":[{\"type\":\"scattercarpet\",\"marker\":{\"colorbar\":{\"outlinewidth\":0,\"ticks\":\"\"}}}],\"carpet\":[{\"aaxis\":{\"endlinecolor\":\"#2a3f5f\",\"gridcolor\":\"white\",\"linecolor\":\"white\",\"minorgridcolor\":\"white\",\"startlinecolor\":\"#2a3f5f\"},\"baxis\":{\"endlinecolor\":\"#2a3f5f\",\"gridcolor\":\"white\",\"linecolor\":\"white\",\"minorgridcolor\":\"white\",\"startlinecolor\":\"#2a3f5f\"},\"type\":\"carpet\"}],\"table\":[{\"cells\":{\"fill\":{\"color\":\"#EBF0F8\"},\"line\":{\"color\":\"white\"}},\"header\":{\"fill\":{\"color\":\"#C8D4E3\"},\"line\":{\"color\":\"white\"}},\"type\":\"table\"}],\"barpolar\":[{\"marker\":{\"line\":{\"color\":\"#E5ECF6\",\"width\":0.5},\"pattern\":{\"fillmode\":\"overlay\",\"size\":10,\"solidity\":0.2}},\"type\":\"barpolar\"}],\"pie\":[{\"automargin\":true,\"type\":\"pie\"}]},\"layout\":{\"autotypenumbers\":\"strict\",\"colorway\":[\"#636efa\",\"#EF553B\",\"#00cc96\",\"#ab63fa\",\"#FFA15A\",\"#19d3f3\",\"#FF6692\",\"#B6E880\",\"#FF97FF\",\"#FECB52\"],\"font\":{\"color\":\"#2a3f5f\"},\"hovermode\":\"closest\",\"hoverlabel\":{\"align\":\"left\"},\"paper_bgcolor\":\"white\",\"plot_bgcolor\":\"#E5ECF6\",\"polar\":{\"bgcolor\":\"#E5ECF6\",\"angularaxis\":{\"gridcolor\":\"white\",\"linecolor\":\"white\",\"ticks\":\"\"},\"radialaxis\":{\"gridcolor\":\"white\",\"linecolor\":\"white\",\"ticks\":\"\"}},\"ternary\":{\"bgcolor\":\"#E5ECF6\",\"aaxis\":{\"gridcolor\":\"white\",\"linecolor\":\"white\",\"ticks\":\"\"},\"baxis\":{\"gridcolor\":\"white\",\"linecolor\":\"white\",\"ticks\":\"\"},\"caxis\":{\"gridcolor\":\"white\",\"linecolor\":\"white\",\"ticks\":\"\"}},\"coloraxis\":{\"colorbar\":{\"outlinewidth\":0,\"ticks\":\"\"}},\"colorscale\":{\"sequential\":[[0.0,\"#0d0887\"],[0.1111111111111111,\"#46039f\"],[0.2222222222222222,\"#7201a8\"],[0.3333333333333333,\"#9c179e\"],[0.4444444444444444,\"#bd3786\"],[0.5555555555555556,\"#d8576b\"],[0.6666666666666666,\"#ed7953\"],[0.7777777777777778,\"#fb9f3a\"],[0.8888888888888888,\"#fdca26\"],[1.0,\"#f0f921\"]],\"sequentialminus\":[[0.0,\"#0d0887\"],[0.1111111111111111,\"#46039f\"],[0.2222222222222222,\"#7201a8\"],[0.3333333333333333,\"#9c179e\"],[0.4444444444444444,\"#bd3786\"],[0.5555555555555556,\"#d8576b\"],[0.6666666666666666,\"#ed7953\"],[0.7777777777777778,\"#fb9f3a\"],[0.8888888888888888,\"#fdca26\"],[1.0,\"#f0f921\"]],\"diverging\":[[0,\"#8e0152\"],[0.1,\"#c51b7d\"],[0.2,\"#de77ae\"],[0.3,\"#f1b6da\"],[0.4,\"#fde0ef\"],[0.5,\"#f7f7f7\"],[0.6,\"#e6f5d0\"],[0.7,\"#b8e186\"],[0.8,\"#7fbc41\"],[0.9,\"#4d9221\"],[1,\"#276419\"]]},\"xaxis\":{\"gridcolor\":\"white\",\"linecolor\":\"white\",\"ticks\":\"\",\"title\":{\"standoff\":15},\"zerolinecolor\":\"white\",\"automargin\":true,\"zerolinewidth\":2},\"yaxis\":{\"gridcolor\":\"white\",\"linecolor\":\"white\",\"ticks\":\"\",\"title\":{\"standoff\":15},\"zerolinecolor\":\"white\",\"automargin\":true,\"zerolinewidth\":2},\"scene\":{\"xaxis\":{\"backgroundcolor\":\"#E5ECF6\",\"gridcolor\":\"white\",\"linecolor\":\"white\",\"showbackground\":true,\"ticks\":\"\",\"zerolinecolor\":\"white\",\"gridwidth\":2},\"yaxis\":{\"backgroundcolor\":\"#E5ECF6\",\"gridcolor\":\"white\",\"linecolor\":\"white\",\"showbackground\":true,\"ticks\":\"\",\"zerolinecolor\":\"white\",\"gridwidth\":2},\"zaxis\":{\"backgroundcolor\":\"#E5ECF6\",\"gridcolor\":\"white\",\"linecolor\":\"white\",\"showbackground\":true,\"ticks\":\"\",\"zerolinecolor\":\"white\",\"gridwidth\":2}},\"shapedefaults\":{\"line\":{\"color\":\"#2a3f5f\"}},\"annotationdefaults\":{\"arrowcolor\":\"#2a3f5f\",\"arrowhead\":0,\"arrowwidth\":1},\"geo\":{\"bgcolor\":\"white\",\"landcolor\":\"#E5ECF6\",\"subunitcolor\":\"white\",\"showland\":true,\"showlakes\":true,\"lakecolor\":\"white\"},\"title\":{\"x\":0.05},\"mapbox\":{\"style\":\"light\"}}},\"title\":{\"text\":\"Bar Plot Example\"},\"xaxis\":{\"title\":{\"text\":\"Categories\"}},\"yaxis\":{\"title\":{\"text\":\"Values\"}}},                        {\"responsive\": true}                    ).then(function(){\n",
              "                            \n",
              "var gd = document.getElementById('015c3ffe-fbbe-466f-9748-7c788d0ea4cc');\n",
              "var x = new MutationObserver(function (mutations, observer) {{\n",
              "        var display = window.getComputedStyle(gd).display;\n",
              "        if (!display || display === 'none') {{\n",
              "            console.log([gd, 'removed!']);\n",
              "            Plotly.purge(gd);\n",
              "            observer.disconnect();\n",
              "        }}\n",
              "}});\n",
              "\n",
              "// Listen for the removal of the full notebook cells\n",
              "var notebookContainer = gd.closest('#notebook-container');\n",
              "if (notebookContainer) {{\n",
              "    x.observe(notebookContainer, {childList: true});\n",
              "}}\n",
              "\n",
              "// Listen for the clearing of the current output cell\n",
              "var outputEl = gd.closest('.output');\n",
              "if (outputEl) {{\n",
              "    x.observe(outputEl, {childList: true});\n",
              "}}\n",
              "\n",
              "                        })                };                            </script>        </div>\n",
              "</body>\n",
              "</html>"
            ]
          },
          "metadata": {}
        }
      ]
    },
    {
      "cell_type": "markdown",
      "source": [
        "#6.  Create a DataFrame and add a new column based on an existing column.\n"
      ],
      "metadata": {
        "id": "5fij_fLOWmPs"
      }
    },
    {
      "cell_type": "code",
      "source": [
        "import pandas as pd\n",
        "\n",
        "data = {'Product': ['Apples', 'Bananas', 'Oranges'], 'Price': [100, 60, 80]}\n",
        "df = pd.DataFrame(data)\n",
        "df['Discounted_Price'] = df['Price'] * 0.90\n",
        "\n",
        "print(df)\n"
      ],
      "metadata": {
        "colab": {
          "base_uri": "https://localhost:8080/"
        },
        "id": "0id9hHY8Wp-M",
        "outputId": "e7dc72d7-1725-4abc-b4f0-3b0b1de38546"
      },
      "execution_count": null,
      "outputs": [
        {
          "output_type": "stream",
          "name": "stdout",
          "text": [
            "   Product  Price  Discounted_Price\n",
            "0   Apples    100              90.0\n",
            "1  Bananas     60              54.0\n",
            "2  Oranges     80              72.0\n"
          ]
        }
      ]
    },
    {
      "cell_type": "markdown",
      "source": [
        "#7.  Write a program to perform element-wise multiplication of two NumPy arrays.\n"
      ],
      "metadata": {
        "id": "WcNC31aOWqUI"
      }
    },
    {
      "cell_type": "code",
      "source": [
        "import numpy as np\n",
        "\n",
        "array1 = np.array([1, 2, 3, 4])\n",
        "array2 = np.array([5, 6, 7, 8])\n",
        "\n",
        "result = array1 * array2\n",
        "\n",
        "print(\"Array 1:\", array1)\n",
        "print(\"Array 2:\", array2)\n",
        "print(\"Element-wise multiplication result:\", result)\n"
      ],
      "metadata": {
        "colab": {
          "base_uri": "https://localhost:8080/"
        },
        "id": "ZnUZmmnpWuZb",
        "outputId": "a6b63f74-3573-46ce-9634-8ca6c575cbf7"
      },
      "execution_count": null,
      "outputs": [
        {
          "output_type": "stream",
          "name": "stdout",
          "text": [
            "Array 1: [1 2 3 4]\n",
            "Array 2: [5 6 7 8]\n",
            "Element-wise multiplication result: [ 5 12 21 32]\n"
          ]
        }
      ]
    },
    {
      "cell_type": "markdown",
      "source": [
        "#8. Create a line plot with multiple lines using Matplotlib.\n"
      ],
      "metadata": {
        "id": "SjiIc1G4WuvX"
      }
    },
    {
      "cell_type": "code",
      "source": [
        "import matplotlib.pyplot as plt\n",
        "\n",
        "x = [1, 2, 3, 4, 5]\n",
        "y1 = [1, 4, 9, 16, 25]  # Line 1\n",
        "y2 = [2, 5, 10, 17, 26]  # Line 2\n",
        "y3 = [3, 6, 11, 18, 27]  # Line 3\n",
        "\n",
        "plt.plot(x, y1, label='Line 1', color='blue', marker='o')\n",
        "plt.plot(x, y2, label='Line 2', color='green', marker='s')\n",
        "plt.plot(x, y3, label='Line 3', color='red', marker='^')\n",
        "\n",
        "plt.xlabel('X-axis')\n",
        "plt.ylabel('Y-axis')\n",
        "plt.title('Multiple Lines in a Plot')\n",
        "plt.legend()\n",
        "\n",
        "plt.show()\n"
      ],
      "metadata": {
        "colab": {
          "base_uri": "https://localhost:8080/",
          "height": 472
        },
        "id": "gNXDTLX-WyYs",
        "outputId": "ede6efac-584a-458a-f8c7-677a9bf639ef"
      },
      "execution_count": null,
      "outputs": [
        {
          "output_type": "display_data",
          "data": {
            "text/plain": [
              "<Figure size 640x480 with 1 Axes>"
            ],
            "image/png": "[encoded data removed]"
          },
          "metadata": {}
        }
      ]
    },
    {
      "cell_type": "markdown",
      "source": [
        "#9.  Generate a Pandas DataFrame and filter rows where a column value is greater than a threshold.\n"
      ],
      "metadata": {
        "id": "GIb-PwBQWyx4"
      }
    },
    {
      "cell_type": "code",
      "source": [
        "import pandas as pd\n",
        "\n",
        "data = {'Name': ['Alice', 'Bob', 'Charlie', 'David'], 'Age': [25, 30, 35, 40]}\n",
        "df = pd.DataFrame(data)\n",
        "threshold = 30\n",
        "filtered_df = df[df['Age'] > threshold]\n",
        "\n",
        "print(\"Original DataFrame:\")\n",
        "print(df)\n",
        "print(\"\\nFiltered DataFrame (Age > 30):\")\n",
        "print(filtered_df)\n"
      ],
      "metadata": {
        "colab": {
          "base_uri": "https://localhost:8080/"
        },
        "id": "a6ENHLqIabVO",
        "outputId": "0375714c-d4a5-49b5-d8e5-17adbf69039f"
      },
      "execution_count": null,
      "outputs": [
        {
          "output_type": "stream",
          "name": "stdout",
          "text": [
            "Original DataFrame:\n",
            "      Name  Age\n",
            "0    Alice   25\n",
            "1      Bob   30\n",
            "2  Charlie   35\n",
            "3    David   40\n",
            "\n",
            "Filtered DataFrame (Age > 30):\n",
            "      Name  Age\n",
            "2  Charlie   35\n",
            "3    David   40\n"
          ]
        }
      ]
    },
    {
      "cell_type": "markdown",
      "source": [
        "#10. Create a histogram using Seaborn to visualize a distribution.\n"
      ],
      "metadata": {
        "id": "18hlwwcgW370"
      }
    },
    {
      "cell_type": "code",
      "source": [
        "import seaborn as sns\n",
        "import matplotlib.pyplot as plt\n",
        "\n",
        "data = [12, 15, 14, 17, 13, 19, 18, 16, 15, 14, 18, 20, 22, 24, 23]\n",
        "\n",
        "sns.histplot(data, kde=True, color='blue', bins=10)\n",
        "\n",
        "plt.xlabel('Value')\n",
        "plt.ylabel('Frequency')\n",
        "plt.title('Histogram with KDE')\n",
        "\n",
        "plt.show()\n"
      ],
      "metadata": {
        "colab": {
          "base_uri": "https://localhost:8080/",
          "height": 472
        },
        "id": "Z6s8LpqFW7lE",
        "outputId": "45aa208a-2623-4d2f-de7d-b88d658a9695"
      },
      "execution_count": null,
      "outputs": [
        {
          "output_type": "display_data",
          "data": {
            "text/plain": [
              "<Figure size 640x480 with 1 Axes>"
            ],
            "image/png": "[encoded data removed]"
          },
          "metadata": {}
        }
      ]
    },
    {
      "cell_type": "markdown",
      "source": [
        "#11. Perform matrix multiplication using NumPy.\n"
      ],
      "metadata": {
        "id": "i6rN4oAiW779"
      }
    },
    {
      "cell_type": "code",
      "source": [
        "import numpy as np\n",
        "\n",
        "matrix1 = np.array([[1, 2, 3], [4, 5, 6]])\n",
        "matrix2 = np.array([[7, 8],[9, 10],[11, 12]])\n",
        "result = np.dot(matrix1, matrix2)\n",
        "\n",
        "print(\"Matrix 1:\")\n",
        "print(matrix1)\n",
        "print(\"\\nMatrix 2:\")\n",
        "print(matrix2)\n",
        "print(\"\\nResult of Matrix Multiplication:\")\n",
        "print(result)\n"
      ],
      "metadata": {
        "colab": {
          "base_uri": "https://localhost:8080/"
        },
        "id": "qdvvBd19W_sw",
        "outputId": "8677dd28-fad7-4767-884c-d4e9f8ba4e49"
      },
      "execution_count": null,
      "outputs": [
        {
          "output_type": "stream",
          "name": "stdout",
          "text": [
            "Matrix 1:\n",
            "[[1 2 3]\n",
            " [4 5 6]]\n",
            "\n",
            "Matrix 2:\n",
            "[[ 7  8]\n",
            " [ 9 10]\n",
            " [11 12]]\n",
            "\n",
            "Result of Matrix Multiplication:\n",
            "[[ 58  64]\n",
            " [139 154]]\n"
          ]
        }
      ]
    },
    {
      "cell_type": "markdown",
      "source": [
        "#12.  Use Pandas to load a CSV file and display its first 5 rows.\n"
      ],
      "metadata": {
        "id": "av8ulzkPXAEq"
      }
    },
    {
      "cell_type": "code",
      "source": [
        "import pandas as pd\n",
        "from io import StringIO\n",
        "\n",
        "#CSV content as a string\n",
        "csv_data = \"\"\"Name,Age,City\\nAlice,24,New york\\nJohn,28,Los Angeles\\nBob,30,Chicago\\nEve,22,San Francisco\\nMike,35,Miami\"\"\"\n",
        "csv_file = StringIO(csv_data)\n",
        "df = pd.read_csv(csv_file)\n",
        "\n",
        "print(df.head())\n"
      ],
      "metadata": {
        "colab": {
          "base_uri": "https://localhost:8080/"
        },
        "id": "-iQwKSqAc0I5",
        "outputId": "d6ebded0-80e2-4b69-aa11-ed5a04370353"
      },
      "execution_count": 2,
      "outputs": [
        {
          "output_type": "stream",
          "name": "stdout",
          "text": [
            "    Name  Age           City\n",
            "0  Alice   24       New york\n",
            "1   John   28    Los Angeles\n",
            "2    Bob   30        Chicago\n",
            "3    Eve   22  San Francisco\n",
            "4   Mike   35          Miami\n"
          ]
        }
      ]
    },
    {
      "cell_type": "markdown",
      "source": [
        "#13.  Create a 3D scatter plot using Plotly.\n"
      ],
      "metadata": {
        "id": "l0OJl16zXEgR"
      }
    },
    {
      "cell_type": "code",
      "source": [
        "import plotly.graph_objects as go\n",
        "\n",
        "x = [1, 2, 3, 4, 5]\n",
        "y = [10, 20, 30, 40, 50]\n",
        "z = [5, 10, 15, 20, 25]\n",
        "\n",
        "fig = go.Figure(data=[go.Scatter3d(\n",
        "    x=x,\n",
        "    y=y,\n",
        "    z=z,\n",
        "    mode='markers',\n",
        "    marker=dict(size=10, color=z, colorscale='Viridis', opacity=0.8))])\n",
        "fig.update_layout(\n",
        "    title=\"3D Scatter Plot Example\",\n",
        "    scene=dict(xaxis_title='X-axis', yaxis_title='Y-axis', zaxis_title='Z-axis'))\n",
        "fig.show()\n"
      ],
      "metadata": {
        "colab": {
          "base_uri": "https://localhost:8080/",
          "height": 542
        },
        "id": "7NpLm4PCXJ-Q",
        "outputId": "545d627e-7bdc-4f56-e7aa-d6c11bbb286f"
      },
      "execution_count": null,
      "outputs": [
        {
          "output_type": "display_data",
          "data": {
            "text/html": [
              "<html>\n",
              "<head><meta charset=\"utf-8\" /></head>\n",
              "<body>\n",
              "    <div>            <script src=\"https://cdnjs.cloudflare.com/ajax/libs/mathjax/2.7.5/MathJax.js?config=TeX-AMS-MML_SVG\"></script><script type=\"text/javascript\">if (window.MathJax && window.MathJax.Hub && window.MathJax.Hub.Config) {window.MathJax.Hub.Config({SVG: {font: \"STIX-Web\"}});}</script>                <script type=\"text/javascript\">window.PlotlyConfig = {MathJaxConfig: 'local'};</script>\n",
              "        <script charset=\"utf-8\" src=\"https://cdn.plot.ly/plotly-2.35.2.min.js\"></script>                <div id=\"380860c2-c19f-412f-8c02-b9b641a0024d\" class=\"plotly-graph-div\" style=\"height:525px; width:100%;\"></div>            <script type=\"text/javascript\">                                    window.PLOTLYENV=window.PLOTLYENV || {};                                    if (document.getElementById(\"380860c2-c19f-412f-8c02-b9b641a0024d\")) {                    Plotly.newPlot(                        \"380860c2-c19f-412f-8c02-b9b641a0024d\",                        [{\"marker\":{\"color\":[5,10,15,20,25],\"colorscale\":[[0.0,\"#440154\"],[0.1111111111111111,\"#482878\"],[0.2222222222222222,\"#3e4989\"],[0.3333333333333333,\"#31688e\"],[0.4444444444444444,\"#26828e\"],[0.5555555555555556,\"#1f9e89\"],[0.6666666666666666,\"#35b779\"],[0.7777777777777778,\"#6ece58\"],[0.8888888888888888,\"#b5de2b\"],[1.0,\"#fde725\"]],\"opacity\":0.8,\"size\":10},\"mode\":\"markers\",\"x\":[1,2,3,4,5],\"y\":[10,20,30,40,50],\"z\":[5,10,15,20,25],\"type\":\"scatter3d\"}],                        {\"template\":{\"data\":{\"histogram2dcontour\":[{\"type\":\"histogram2dcontour\",\"colorbar\":{\"outlinewidth\":0,\"ticks\":\"\"},\"colorscale\":[[0.0,\"#0d0887\"],[0.1111111111111111,\"#46039f\"],[0.2222222222222222,\"#7201a8\"],[0.3333333333333333,\"#9c179e\"],[0.4444444444444444,\"#bd3786\"],[0.5555555555555556,\"#d8576b\"],[0.6666666666666666,\"#ed7953\"],[0.7777777777777778,\"#fb9f3a\"],[0.8888888888888888,\"#fdca26\"],[1.0,\"#f0f921\"]]}],\"choropleth\":[{\"type\":\"choropleth\",\"colorbar\":{\"outlinewidth\":0,\"ticks\":\"\"}}],\"histogram2d\":[{\"type\":\"histogram2d\",\"colorbar\":{\"outlinewidth\":0,\"ticks\":\"\"},\"colorscale\":[[0.0,\"#0d0887\"],[0.1111111111111111,\"#46039f\"],[0.2222222222222222,\"#7201a8\"],[0.3333333333333333,\"#9c179e\"],[0.4444444444444444,\"#bd3786\"],[0.5555555555555556,\"#d8576b\"],[0.6666666666666666,\"#ed7953\"],[0.7777777777777778,\"#fb9f3a\"],[0.8888888888888888,\"#fdca26\"],[1.0,\"#f0f921\"]]}],\"heatmap\":[{\"type\":\"heatmap\",\"colorbar\":{\"outlinewidth\":0,\"ticks\":\"\"},\"colorscale\":[[0.0,\"#0d0887\"],[0.1111111111111111,\"#46039f\"],[0.2222222222222222,\"#7201a8\"],[0.3333333333333333,\"#9c179e\"],[0.4444444444444444,\"#bd3786\"],[0.5555555555555556,\"#d8576b\"],[0.6666666666666666,\"#ed7953\"],[0.7777777777777778,\"#fb9f3a\"],[0.8888888888888888,\"#fdca26\"],[1.0,\"#f0f921\"]]}],\"heatmapgl\":[{\"type\":\"heatmapgl\",\"colorbar\":{\"outlinewidth\":0,\"ticks\":\"\"},\"colorscale\":[[0.0,\"#0d0887\"],[0.1111111111111111,\"#46039f\"],[0.2222222222222222,\"#7201a8\"],[0.3333333333333333,\"#9c179e\"],[0.4444444444444444,\"#bd3786\"],[0.5555555555555556,\"#d8576b\"],[0.6666666666666666,\"#ed7953\"],[0.7777777777777778,\"#fb9f3a\"],[0.8888888888888888,\"#fdca26\"],[1.0,\"#f0f921\"]]}],\"contourcarpet\":[{\"type\":\"contourcarpet\",\"colorbar\":{\"outlinewidth\":0,\"ticks\":\"\"}}],\"contour\":[{\"type\":\"contour\",\"colorbar\":{\"outlinewidth\":0,\"ticks\":\"\"},\"colorscale\":[[0.0,\"#0d0887\"],[0.1111111111111111,\"#46039f\"],[0.2222222222222222,\"#7201a8\"],[0.3333333333333333,\"#9c179e\"],[0.4444444444444444,\"#bd3786\"],[0.5555555555555556,\"#d8576b\"],[0.6666666666666666,\"#ed7953\"],[0.7777777777777778,\"#fb9f3a\"],[0.8888888888888888,\"#fdca26\"],[1.0,\"#f0f921\"]]}],\"surface\":[{\"type\":\"surface\",\"colorbar\":{\"outlinewidth\":0,\"ticks\":\"\"},\"colorscale\":[[0.0,\"#0d0887\"],[0.1111111111111111,\"#46039f\"],[0.2222222222222222,\"#7201a8\"],[0.3333333333333333,\"#9c179e\"],[0.4444444444444444,\"#bd3786\"],[0.5555555555555556,\"#d8576b\"],[0.6666666666666666,\"#ed7953\"],[0.7777777777777778,\"#fb9f3a\"],[0.8888888888888888,\"#fdca26\"],[1.0,\"#f0f921\"]]}],\"mesh3d\":[{\"type\":\"mesh3d\",\"colorbar\":{\"outlinewidth\":0,\"ticks\":\"\"}}],\"scatter\":[{\"fillpattern\":{\"fillmode\":\"overlay\",\"size\":10,\"solidity\":0.2},\"type\":\"scatter\"}],\"parcoords\":[{\"type\":\"parcoords\",\"line\":{\"colorbar\":{\"outlinewidth\":0,\"ticks\":\"\"}}}],\"scatterpolargl\":[{\"type\":\"scatterpolargl\",\"marker\":{\"colorbar\":{\"outlinewidth\":0,\"ticks\":\"\"}}}],\"bar\":[{\"error_x\":{\"color\":\"#2a3f5f\"},\"error_y\":{\"color\":\"#2a3f5f\"},\"marker\":{\"line\":{\"color\":\"#E5ECF6\",\"width\":0.5},\"pattern\":{\"fillmode\":\"overlay\",\"size\":10,\"solidity\":0.2}},\"type\":\"bar\"}],\"scattergeo\":[{\"type\":\"scattergeo\",\"marker\":{\"colorbar\":{\"outlinewidth\":0,\"ticks\":\"\"}}}],\"scatterpolar\":[{\"type\":\"scatterpolar\",\"marker\":{\"colorbar\":{\"outlinewidth\":0,\"ticks\":\"\"}}}],\"histogram\":[{\"marker\":{\"pattern\":{\"fillmode\":\"overlay\",\"size\":10,\"solidity\":0.2}},\"type\":\"histogram\"}],\"scattergl\":[{\"type\":\"scattergl\",\"marker\":{\"colorbar\":{\"outlinewidth\":0,\"ticks\":\"\"}}}],\"scatter3d\":[{\"type\":\"scatter3d\",\"line\":{\"colorbar\":{\"outlinewidth\":0,\"ticks\":\"\"}},\"marker\":{\"colorbar\":{\"outlinewidth\":0,\"ticks\":\"\"}}}],\"scattermapbox\":[{\"type\":\"scattermapbox\",\"marker\":{\"colorbar\":{\"outlinewidth\":0,\"ticks\":\"\"}}}],\"scatterternary\":[{\"type\":\"scatterternary\",\"marker\":{\"colorbar\":{\"outlinewidth\":0,\"ticks\":\"\"}}}],\"scattercarpet\":[{\"type\":\"scattercarpet\",\"marker\":{\"colorbar\":{\"outlinewidth\":0,\"ticks\":\"\"}}}],\"carpet\":[{\"aaxis\":{\"endlinecolor\":\"#2a3f5f\",\"gridcolor\":\"white\",\"linecolor\":\"white\",\"minorgridcolor\":\"white\",\"startlinecolor\":\"#2a3f5f\"},\"baxis\":{\"endlinecolor\":\"#2a3f5f\",\"gridcolor\":\"white\",\"linecolor\":\"white\",\"minorgridcolor\":\"white\",\"startlinecolor\":\"#2a3f5f\"},\"type\":\"carpet\"}],\"table\":[{\"cells\":{\"fill\":{\"color\":\"#EBF0F8\"},\"line\":{\"color\":\"white\"}},\"header\":{\"fill\":{\"color\":\"#C8D4E3\"},\"line\":{\"color\":\"white\"}},\"type\":\"table\"}],\"barpolar\":[{\"marker\":{\"line\":{\"color\":\"#E5ECF6\",\"width\":0.5},\"pattern\":{\"fillmode\":\"overlay\",\"size\":10,\"solidity\":0.2}},\"type\":\"barpolar\"}],\"pie\":[{\"automargin\":true,\"type\":\"pie\"}]},\"layout\":{\"autotypenumbers\":\"strict\",\"colorway\":[\"#636efa\",\"#EF553B\",\"#00cc96\",\"#ab63fa\",\"#FFA15A\",\"#19d3f3\",\"#FF6692\",\"#B6E880\",\"#FF97FF\",\"#FECB52\"],\"font\":{\"color\":\"#2a3f5f\"},\"hovermode\":\"closest\",\"hoverlabel\":{\"align\":\"left\"},\"paper_bgcolor\":\"white\",\"plot_bgcolor\":\"#E5ECF6\",\"polar\":{\"bgcolor\":\"#E5ECF6\",\"angularaxis\":{\"gridcolor\":\"white\",\"linecolor\":\"white\",\"ticks\":\"\"},\"radialaxis\":{\"gridcolor\":\"white\",\"linecolor\":\"white\",\"ticks\":\"\"}},\"ternary\":{\"bgcolor\":\"#E5ECF6\",\"aaxis\":{\"gridcolor\":\"white\",\"linecolor\":\"white\",\"ticks\":\"\"},\"baxis\":{\"gridcolor\":\"white\",\"linecolor\":\"white\",\"ticks\":\"\"},\"caxis\":{\"gridcolor\":\"white\",\"linecolor\":\"white\",\"ticks\":\"\"}},\"coloraxis\":{\"colorbar\":{\"outlinewidth\":0,\"ticks\":\"\"}},\"colorscale\":{\"sequential\":[[0.0,\"#0d0887\"],[0.1111111111111111,\"#46039f\"],[0.2222222222222222,\"#7201a8\"],[0.3333333333333333,\"#9c179e\"],[0.4444444444444444,\"#bd3786\"],[0.5555555555555556,\"#d8576b\"],[0.6666666666666666,\"#ed7953\"],[0.7777777777777778,\"#fb9f3a\"],[0.8888888888888888,\"#fdca26\"],[1.0,\"#f0f921\"]],\"sequentialminus\":[[0.0,\"#0d0887\"],[0.1111111111111111,\"#46039f\"],[0.2222222222222222,\"#7201a8\"],[0.3333333333333333,\"#9c179e\"],[0.4444444444444444,\"#bd3786\"],[0.5555555555555556,\"#d8576b\"],[0.6666666666666666,\"#ed7953\"],[0.7777777777777778,\"#fb9f3a\"],[0.8888888888888888,\"#fdca26\"],[1.0,\"#f0f921\"]],\"diverging\":[[0,\"#8e0152\"],[0.1,\"#c51b7d\"],[0.2,\"#de77ae\"],[0.3,\"#f1b6da\"],[0.4,\"#fde0ef\"],[0.5,\"#f7f7f7\"],[0.6,\"#e6f5d0\"],[0.7,\"#b8e186\"],[0.8,\"#7fbc41\"],[0.9,\"#4d9221\"],[1,\"#276419\"]]},\"xaxis\":{\"gridcolor\":\"white\",\"linecolor\":\"white\",\"ticks\":\"\",\"title\":{\"standoff\":15},\"zerolinecolor\":\"white\",\"automargin\":true,\"zerolinewidth\":2},\"yaxis\":{\"gridcolor\":\"white\",\"linecolor\":\"white\",\"ticks\":\"\",\"title\":{\"standoff\":15},\"zerolinecolor\":\"white\",\"automargin\":true,\"zerolinewidth\":2},\"scene\":{\"xaxis\":{\"backgroundcolor\":\"#E5ECF6\",\"gridcolor\":\"white\",\"linecolor\":\"white\",\"showbackground\":true,\"ticks\":\"\",\"zerolinecolor\":\"white\",\"gridwidth\":2},\"yaxis\":{\"backgroundcolor\":\"#E5ECF6\",\"gridcolor\":\"white\",\"linecolor\":\"white\",\"showbackground\":true,\"ticks\":\"\",\"zerolinecolor\":\"white\",\"gridwidth\":2},\"zaxis\":{\"backgroundcolor\":\"#E5ECF6\",\"gridcolor\":\"white\",\"linecolor\":\"white\",\"showbackground\":true,\"ticks\":\"\",\"zerolinecolor\":\"white\",\"gridwidth\":2}},\"shapedefaults\":{\"line\":{\"color\":\"#2a3f5f\"}},\"annotationdefaults\":{\"arrowcolor\":\"#2a3f5f\",\"arrowhead\":0,\"arrowwidth\":1},\"geo\":{\"bgcolor\":\"white\",\"landcolor\":\"#E5ECF6\",\"subunitcolor\":\"white\",\"showland\":true,\"showlakes\":true,\"lakecolor\":\"white\"},\"title\":{\"x\":0.05},\"mapbox\":{\"style\":\"light\"}}},\"title\":{\"text\":\"3D Scatter Plot Example\"},\"scene\":{\"xaxis\":{\"title\":{\"text\":\"X-axis\"}},\"yaxis\":{\"title\":{\"text\":\"Y-axis\"}},\"zaxis\":{\"title\":{\"text\":\"Z-axis\"}}}},                        {\"responsive\": true}                    ).then(function(){\n",
              "                            \n",
              "var gd = document.getElementById('380860c2-c19f-412f-8c02-b9b641a0024d');\n",
              "var x = new MutationObserver(function (mutations, observer) {{\n",
              "        var display = window.getComputedStyle(gd).display;\n",
              "        if (!display || display === 'none') {{\n",
              "            console.log([gd, 'removed!']);\n",
              "            Plotly.purge(gd);\n",
              "            observer.disconnect();\n",
              "        }}\n",
              "}});\n",
              "\n",
              "// Listen for the removal of the full notebook cells\n",
              "var notebookContainer = gd.closest('#notebook-container');\n",
              "if (notebookContainer) {{\n",
              "    x.observe(notebookContainer, {childList: true});\n",
              "}}\n",
              "\n",
              "// Listen for the clearing of the current output cell\n",
              "var outputEl = gd.closest('.output');\n",
              "if (outputEl) {{\n",
              "    x.observe(outputEl, {childList: true});\n",
              "}}\n",
              "\n",
              "                        })                };                            </script>        </div>\n",
              "</body>\n",
              "</html>"
            ]
          },
          "metadata": {}
        }
      ]
    }
  ]
}